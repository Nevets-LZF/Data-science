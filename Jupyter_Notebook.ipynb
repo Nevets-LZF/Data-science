{
  "metadata": {
    "kernelspec": {
      "name": "python",
      "display_name": "Pyolite",
      "language": "python"
    },
    "language_info": {
      "codemirror_mode": {
        "name": "python",
        "version": 3
      },
      "file_extension": ".py",
      "mimetype": "text/x-python",
      "name": "python",
      "nbconvert_exporter": "python",
      "pygments_lexer": "ipython3",
      "version": "3.8"
    }
  },
  "nbformat_minor": 4,
  "nbformat": 4,
  "cells": [
    {
      "cell_type": "markdown",
      "source": "# My jupyter Notebook on the IBM",
      "metadata": {
        "tags": []
      }
    },
    {
      "cell_type": "markdown",
      "source": "**Li Zifan**\nBusiness man",
      "metadata": {}
    },
    {
      "cell_type": "markdown",
      "source": "* I'm interesting data science because in the dotcom area the we need data science ",
      "metadata": {}
    },
    {
      "cell_type": "markdown",
      "source": "### do some basic calculation like a + c -b",
      "metadata": {}
    },
    {
      "cell_type": "code",
      "source": "a = 3\nb = 14\nc = 5\nprint(a + c - b)",
      "metadata": {
        "trusted": true
      },
      "execution_count": null,
      "outputs": []
    },
    {
      "cell_type": "markdown",
      "source": "---\n<li>list 1</li>\n<li>list 2</li>\n<li>list 3</li>\n<li>list 4</li>\n<li>list 5</li>\n\n---\n\n<table border=\"1\">\n    <tr>\n        <td>row 1, cell 1</td>\n        <td>row 1, cell 2</td>\n    </tr>\n    <tr>\n        <td>row 2, cell 1</td>\n        <td>row 2, cell 2</td>   \n    </tr>\n</table>\n\n---\n\n<h1><a href-\"https://www.google.cn/webhp?source=g_cn\">Google</a></h1>",
      "metadata": {}
    },
    {
      "cell_type": "code",
      "source": "",
      "metadata": {},
      "execution_count": null,
      "outputs": []
    }
  ]
}